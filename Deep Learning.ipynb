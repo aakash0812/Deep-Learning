{
 "cells": [
  {
   "cell_type": "markdown",
   "id": "1f78fd5c",
   "metadata": {},
   "source": [
    "# General Terms used in Deep Learning\n",
    " - epoch: Neural networks are trained iteratively and each iteration is epoch. It's a hyperparameter that needs tuning. \n",
    " - weights: Weights determine how the input data is transformed as it passes through the network and ultimately affect the accuracy of the network's predictions. Each neuron has its own weight and is multiplied by input and summed together to produce an output. \n",
    " - loss: Error rate between network predicted labels and actual lables is loss. It's calculated using loss function. \n",
    " - Backpropagation: process where each neurons weight is adjusted in order to mizimize the loss especially for neurons that contribute more to the loss than others\n",
    " - tesnor: its a deep learning framework and a multidimensional array. Its once data is transformed into tensors a mathematical calculations can be performed for nerural networks to learn. \n",
    " - Convolutional neural network (convnet): type of deep learning algorithm that is commonly used for image recognition and classification tasks.\n"
   ]
  },
  {
   "cell_type": "code",
   "execution_count": null,
   "id": "c429bb41",
   "metadata": {},
   "outputs": [],
   "source": []
  }
 ],
 "metadata": {
  "kernelspec": {
   "display_name": "Python 3 (ipykernel)",
   "language": "python",
   "name": "python3"
  },
  "language_info": {
   "codemirror_mode": {
    "name": "ipython",
    "version": 3
   },
   "file_extension": ".py",
   "mimetype": "text/x-python",
   "name": "python",
   "nbconvert_exporter": "python",
   "pygments_lexer": "ipython3",
   "version": "3.9.13"
  }
 },
 "nbformat": 4,
 "nbformat_minor": 5
}
